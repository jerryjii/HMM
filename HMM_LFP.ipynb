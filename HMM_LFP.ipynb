{
 "cells": [
  {
   "cell_type": "markdown",
   "metadata": {},
   "source": [
    "#### Libraries and dependencies"
   ]
  },
  {
   "cell_type": "code",
   "execution_count": 2,
   "metadata": {},
   "outputs": [
    {
     "name": "stderr",
     "output_type": "stream",
     "text": [
      "e:\\jerry\\anaconda\\envs\\allensdk\\lib\\site-packages\\tqdm\\auto.py:21: TqdmWarning: IProgress not found. Please update jupyter and ipywidgets. See https://ipywidgets.readthedocs.io/en/stable/user_install.html\n",
      "  from .autonotebook import tqdm as notebook_tqdm\n"
     ]
    },
    {
     "name": "stdout",
     "output_type": "stream",
     "text": [
      "Fraction of insertions with valid LFP:  0.9602209944751381\n"
     ]
    }
   ],
   "source": [
    "import numpy as np\n",
    "import pandas as pd\n",
    "from hmmlearn import hmm\n",
    "from copy import deepcopy\n",
    "from numpy.fft import fft, ifft\n",
    "from scipy.stats import zscore\n",
    "from matplotlib import pyplot as plt\n",
    "from scipy.signal import butter, filtfilt, hilbert\n",
    "from allensdk.brain_observatory.behavior.behavior_project_cache.\\\n",
    "    behavior_neuropixels_project_cache \\\n",
    "    import VisualBehaviorNeuropixelsProjectCache\n",
    "output_dir = \"E:/jerry/vbn_s3_cache\"\n",
    "cache = VisualBehaviorNeuropixelsProjectCache.from_s3_cache(cache_dir=output_dir)\n",
    "probes = cache.get_probe_table() # type: ignore\n",
    "valid_lfp = probes[probes['has_lfp_data']]\n",
    "print('Fraction of insertions with valid LFP: ', len(valid_lfp)/len(probes))"
   ]
  },
  {
   "cell_type": "markdown",
   "metadata": {},
   "source": [
    "#### 1064644573"
   ]
  },
  {
   "cell_type": "code",
   "execution_count": 3,
   "metadata": {},
   "outputs": [],
   "source": [
    "session_id = probes.loc[1064735073]['ecephys_session_id']\n",
    "session = cache.get_ecephys_session(ecephys_session_id=session_id) # type: ignore\n",
    "probeA = session.get_lfp(1064735071) #VISam\n",
    "probeB = session.get_lfp(1064735072) #VISpm\n",
    "probeC = session.get_lfp(1064735073) #VISp\n",
    "probeD = session.get_lfp(1064735075) #VISl\n",
    "probeE = session.get_lfp(1064735076) #VISal\n",
    "probeF = session.get_lfp(1064735077) #VISrl\n",
    "chans = session.get_channels()"
   ]
  },
  {
   "cell_type": "code",
   "execution_count": 4,
   "metadata": {},
   "outputs": [
    {
     "name": "stdout",
     "output_type": "stream",
     "text": [
      "26.51665497698943\n",
      "3627.411090114033\n"
     ]
    }
   ],
   "source": [
    "# getting the start and end of stim block 0\n",
    "stim_pre = session.stimulus_presentations\n",
    "stim = stim_pre[stim_pre['stimulus_name'].str.contains('Natural')]\n",
    "stim = stim[stim['stimulus_block'] == 0]\n",
    "stim_times = stim.start_time.values # all the start times\n",
    "stim_ids = stim.index.values # all the stimulus ids\n",
    "start = stim.iloc[0].start_time\n",
    "end = stim.iloc[-1].end_time\n",
    "master_time = np.arange(start, end, 1/1250) # start to end sliced by 0.8ms <- sampling rate of LFP"
   ]
  },
  {
   "cell_type": "markdown",
   "metadata": {},
   "source": [
    "#### [Tutorial] Aligning LFP"
   ]
  },
  {
   "cell_type": "code",
   "execution_count": 40,
   "metadata": {},
   "outputs": [],
   "source": [
    "def align_lfp(lfp, trial_window, alignment_times, trial_ids = None):\n",
    "    '''\n",
    "    Aligns the LFP data array to experiment times of interest\n",
    "    INPUTS:\n",
    "        lfp: data array containing LFP data for one probe insertion\n",
    "        trial_window: vector specifying the time points to excise around each alignment time\n",
    "        alignment_times: experiment times around which to excise data\n",
    "        trial_ids: indices in the session stim table specifying which stimuli to use for alignment.\n",
    "                    None if aligning to non-stimulus times\n",
    "    \n",
    "    OUTPUT:\n",
    "        aligned data array with dimensions channels x trials x time\n",
    "    '''\n",
    "    \n",
    "    time_selection = np.concatenate([trial_window + t for t in alignment_times])\n",
    "    #print(time_selection)\n",
    "    if trial_ids is None:\n",
    "        trial_ids = np.arange(len(alignment_times))\n",
    "        \n",
    "    inds = pd.MultiIndex.from_product((trial_ids, trial_window), \n",
    "                                      names=('presentation_id', 'time_from_presentation_onset'))\n",
    "\n",
    "    ds = lfp.sel(time = time_selection, method='nearest').to_dataset(name = 'aligned_lfp')\n",
    "    ds = ds.assign(time=inds).unstack('time')\n",
    "\n",
    "    return ds['aligned_lfp']"
   ]
  },
  {
   "cell_type": "code",
   "execution_count": 41,
   "metadata": {},
   "outputs": [],
   "source": [
    "aligned_lfp = align_lfp(probeB, np.arange(-0.2, 0.2, 1/10), [stim_times[0]], [stim_ids[0]])"
   ]
  },
  {
   "cell_type": "code",
   "execution_count": 42,
   "metadata": {},
   "outputs": [
    {
     "ename": "NameError",
     "evalue": "name 'lfp' is not defined",
     "output_type": "error",
     "traceback": [
      "\u001b[1;31m---------------------------------------------------------------------------\u001b[0m",
      "\u001b[1;31mNameError\u001b[0m                                 Traceback (most recent call last)",
      "Cell \u001b[1;32mIn[42], line 2\u001b[0m\n\u001b[0;32m      1\u001b[0m chans \u001b[38;5;241m=\u001b[39m session\u001b[38;5;241m.\u001b[39mget_channels()\n\u001b[1;32m----> 2\u001b[0m lfp_chan_depths \u001b[38;5;241m=\u001b[39m [chans\u001b[38;5;241m.\u001b[39mloc[c][\u001b[38;5;124m'\u001b[39m\u001b[38;5;124mprobe_vertical_position\u001b[39m\u001b[38;5;124m'\u001b[39m] \u001b[38;5;28;01mfor\u001b[39;00m c \u001b[38;5;129;01min\u001b[39;00m \u001b[43mlfp\u001b[49m\u001b[38;5;241m.\u001b[39mchannel\u001b[38;5;241m.\u001b[39mvalues]\n\u001b[0;32m      4\u001b[0m chans_in_brain \u001b[38;5;241m=\u001b[39m chans[(chans[\u001b[38;5;124m'\u001b[39m\u001b[38;5;124mprobe_id\u001b[39m\u001b[38;5;124m'\u001b[39m]\u001b[38;5;241m==\u001b[39m\u001b[38;5;241m1064735073\u001b[39m)\u001b[38;5;241m&\u001b[39m(\u001b[38;5;241m~\u001b[39mchans[\u001b[38;5;124m'\u001b[39m\u001b[38;5;124mstructure_acronym\u001b[39m\u001b[38;5;124m'\u001b[39m]\u001b[38;5;241m.\u001b[39mstr\u001b[38;5;241m.\u001b[39mcontains(\u001b[38;5;124m'\u001b[39m\u001b[38;5;124mroot\u001b[39m\u001b[38;5;124m'\u001b[39m))]\n\u001b[0;32m      5\u001b[0m first_channel_in_brain_position \u001b[38;5;241m=\u001b[39m chans_in_brain[\u001b[38;5;124m'\u001b[39m\u001b[38;5;124mprobe_vertical_position\u001b[39m\u001b[38;5;124m'\u001b[39m]\u001b[38;5;241m.\u001b[39mmax()\n",
      "\u001b[1;31mNameError\u001b[0m: name 'lfp' is not defined"
     ]
    }
   ],
   "source": [
    "chans = session.get_channels()\n",
    "lfp_chan_depths = [chans.loc[c]['probe_vertical_position'] for c in lfp.channel.values]\n",
    "\n",
    "chans_in_brain = chans[(chans['probe_id']==1064735073)&(~chans['structure_acronym'].str.contains('root'))]\n",
    "first_channel_in_brain_position = chans_in_brain['probe_vertical_position'].max()\n",
    "fig, ax = plt.subplots()\n",
    "fig.suptitle('Flash aligned mean LFP')\n",
    "im = ax.pcolor(aligned_lfp.time_from_presentation_onset.values, lfp_chan_depths, aligned_lfp.mean(dim='presentation_id').data)\n",
    "_ = plt.colorbar(im, fraction=0.036, pad=0.04)\n",
    "_ = plt.xlabel('Time from flash onset (s)')\n",
    "_ = plt.ylabel('Channel Position from Tip (um)')\n",
    "\n",
    "ax.axvline(0, c='w', ls='dotted')\n",
    "ax.axvline(0.25, c='w', ls='dotted')\n",
    "ax.axhline(first_channel_in_brain_position, c='w')\n",
    "ax.text(-0.4, first_channel_in_brain_position+50, 'brain surface', c='w')"
   ]
  },
  {
   "cell_type": "markdown",
   "metadata": {},
   "source": [
    "#### Filtering"
   ]
  },
  {
   "cell_type": "code",
   "execution_count": 5,
   "metadata": {},
   "outputs": [],
   "source": [
    "lfpA_slice = probeA.sel(time=master_time, method='nearest')\n",
    "lfpB_slice = probeB.sel(time=master_time, method='nearest')\n",
    "lfpC_slice = probeC.sel(time=master_time, method='nearest')\n",
    "lfpD_slice = probeD.sel(time=master_time, method='nearest')\n",
    "lfpE_slice = probeE.sel(time=master_time, method='nearest')\n",
    "lfpF_slice = probeF.sel(time=master_time, method='nearest')\n",
    "lfpA_copy = deepcopy(lfpA_slice)\n",
    "lfpB_copy = deepcopy(lfpB_slice)\n",
    "lfpC_copy = deepcopy(lfpC_slice)\n",
    "lfpD_copy = deepcopy(lfpD_slice)\n",
    "lfpE_copy = deepcopy(lfpE_slice)\n",
    "lfpF_copy = deepcopy(lfpF_slice)"
   ]
  },
  {
   "cell_type": "code",
   "execution_count": 6,
   "metadata": {},
   "outputs": [],
   "source": [
    "mask = np.array([60]) # channel 60\n",
    "A_single = lfpA_copy[:,mask]\n",
    "B_single = lfpB_copy[:,mask]\n",
    "C_single = lfpC_copy[:,mask]\n",
    "D_single = lfpD_copy[:,mask]\n",
    "E_single = lfpE_copy[:,mask]\n",
    "F_single = lfpF_copy[:,mask]"
   ]
  },
  {
   "cell_type": "code",
   "execution_count": 7,
   "metadata": {},
   "outputs": [],
   "source": [
    "bands = np.zeros((4, 6, len(A_single))) # 4 bands, 6 channels, 400k samples\n",
    "Wns = [[3,8],[10,30],[30,50],[50,80]]\n",
    "all_channels = np.hstack((A_single,B_single,C_single,D_single,E_single,F_single))\n",
    "for i, Wn in enumerate(Wns): # checked, same output with processing each channel individually\n",
    "    b,a = butter(N=3, Wn=Wn, fs=1250, btype='bandpass', output='ba') # butterworth\n",
    "    all_channels_ff = filtfilt(b,a,all_channels.T) \n",
    "    all_channels_env = hilbert(all_channels_ff)\n",
    "    all_channels_env_abs = np.abs(all_channels_env)\n",
    "    all_channels_env_abs_z = zscore(all_channels_env_abs, axis=1)\n",
    "    bands[i] = all_channels_env_abs_z\n",
    "bands = np.reshape(bands,(4*6, len(A_single)))"
   ]
  },
  {
   "cell_type": "markdown",
   "metadata": {},
   "source": [
    "#### Gaussian HMM for LFP"
   ]
  },
  {
   "cell_type": "code",
   "execution_count": 8,
   "metadata": {},
   "outputs": [],
   "source": [
    "def plot(model, preds, num=3):\n",
    "    means = model.means_\n",
    "    vals = np.mean(means[preds], axis=1)\n",
    "    plt.plot(vals[0:int(750*num/0.8)])\n",
    "    start_time = 0\n",
    "    for i in range(num):\n",
    "        plt.axvspan(start_time/0.8, (start_time+250)/0.8, alpha=0.2, color='red') # stimulus\n",
    "        start_time += 250\n",
    "        plt.axvspan(start_time/0.8, (start_time+500)/0.8, alpha=0.2, color='gray') # gray\n",
    "        start_time += 500"
   ]
  },
  {
   "cell_type": "code",
   "execution_count": 9,
   "metadata": {},
   "outputs": [
    {
     "name": "stderr",
     "output_type": "stream",
     "text": [
      "         1 -3386904.97489184             +nan\n",
      "         2 -3277293.81665428 +109611.15823756\n",
      "         3 -3235396.83130205  +41896.98535224\n",
      "         4 -3224182.82586266  +11214.00543938\n",
      "         5 -3222236.14264692   +1946.68321574\n",
      "         6 -3221256.39294289    +979.74970403\n",
      "         7 -3220753.11662063    +503.27632225\n",
      "         8 -3220461.11608671    +292.00053392\n",
      "         9 -3220244.44354319    +216.67254352\n",
      "        10 -3220074.16827054    +170.27527265\n",
      "        11 -3219854.23537842    +219.93289212\n",
      "        12 -3219718.92290082    +135.31247760\n",
      "        13 -3219570.91901677    +148.00388404\n",
      "        14 -3219223.82605286    +347.09296391\n",
      "        15 -3218824.65953949    +399.16651337\n",
      "        16 -3218474.50014430    +350.15939519\n",
      "        17 -3218131.12693132    +343.37321298\n",
      "        18 -3217910.89557705    +220.23135428\n",
      "        19 -3217773.59945282    +137.29612422\n",
      "        20 -3217664.58558936    +109.01386346\n",
      "        21 -3217594.53714028     +70.04844908\n",
      "        22 -3217530.63498307     +63.90215720\n",
      "        23 -3217454.50757954     +76.12740353\n",
      "        24 -3217373.98839668     +80.51918286\n",
      "        25 -3217280.43024184     +93.55815485\n",
      "        26 -3217198.03613746     +82.39410438\n",
      "        27 -3217126.22893503     +71.80720243\n",
      "        28 -3217061.64662450     +64.58231054\n",
      "        29 -3217016.51613250     +45.13049200\n",
      "        30 -3216985.52275442     +30.99337809\n",
      "        31 -3216948.18505421     +37.33770021\n",
      "        32 -3216900.37593588     +47.80911833\n",
      "        33 -3216846.92892092     +53.44701497\n",
      "        34 -3216787.82096465     +59.10795627\n",
      "        35 -3216722.65589767     +65.16506698\n",
      "        36 -3216657.35081632     +65.30508135\n",
      "        37 -3216600.43702535     +56.91379097\n",
      "        38 -3216559.51133331     +40.92569204\n",
      "        39 -3216535.73504120     +23.77629211\n",
      "        40 -3216518.16996740     +17.56507380\n",
      "        41 -3216503.12810892     +15.04185849\n",
      "        42 -3216492.71672962     +10.41137930\n",
      "        43 -3216483.16427613      +9.55245349\n",
      "        44 -3216472.66282863     +10.50144750\n",
      "        45 -3216454.85208144     +17.81074719\n",
      "        46 -3216437.55384576     +17.29823567\n",
      "        47 -3216425.32840662     +12.22543915\n",
      "        48 -3216414.27741081     +11.05099581\n",
      "        49 -3216403.66596430     +10.61144651\n",
      "        50 -3216391.87610177     +11.78986253\n",
      "        51 -3216381.31800577     +10.55809600\n",
      "        52 -3216371.35260969      +9.96539608\n",
      "        53 -3216359.48935347     +11.86325622\n",
      "        54 -3216348.74899643     +10.74035704\n",
      "        55 -3216341.69631247      +7.05268396\n",
      "        56 -3216338.18598142      +3.51033106\n",
      "        57 -3216336.29203004      +1.89395137\n",
      "        58 -3216335.15972175      +1.13230829\n",
      "        59 -3216334.45940618      +0.70031557\n",
      "        60 -3216334.02761759      +0.43178859\n",
      "        61 -3216333.76153697      +0.26608061\n",
      "        62 -3216333.59678371      +0.16475326\n",
      "        63 -3216333.49515474      +0.10162897\n",
      "        64 -3216333.43323983      +0.06191492\n"
     ]
    }
   ],
   "source": [
    "model = hmm.GaussianHMM(n_components=3, n_iter=100, verbose=True, tol=0.1)\n",
    "model.fit(bands.T[0:100000]) # to speed up training\n",
    "preds= model.predict(bands.T[0:100000])"
   ]
  },
  {
   "cell_type": "code",
   "execution_count": 11,
   "metadata": {},
   "outputs": [
    {
     "data": {
      "image/png": "[encoded data removed]",
      "text/plain": [
       "<Figure size 640x480 with 1 Axes>"
      ]
     },
     "metadata": {},
     "output_type": "display_data"
    }
   ],
   "source": [
    "plot(model, preds,5)\n",
    "#plt.plot(bands[0,:int(750*5/0.8)]/7)"
   ]
  }
 ],
 "metadata": {
  "kernelspec": {
   "display_name": "Python 3",
   "language": "python",
   "name": "python3"
  },
  "language_info": {
   "codemirror_mode": {
    "name": "ipython",
    "version": 3
   },
   "file_extension": ".py",
   "mimetype": "text/x-python",
   "name": "python",
   "nbconvert_exporter": "python",
   "pygments_lexer": "ipython3",
   "version": "3.9.19"
  }
 },
 "nbformat": 4,
 "nbformat_minor": 2
}
